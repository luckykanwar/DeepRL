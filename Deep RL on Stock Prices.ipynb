{
 "cells": [
  {
   "cell_type": "code",
   "execution_count": 36,
   "metadata": {},
   "outputs": [],
   "source": [
    "from yahoo_finance import Share\n",
    "from urllib.request import urlopen\n",
    "from bs4 import BeautifulSoup as bs\n",
    "from matplotlib import pyplot as plt"
   ]
  },
  {
   "cell_type": "code",
   "execution_count": null,
   "metadata": {},
   "outputs": [],
   "source": [
    "msoft = Share('MSFT') # This is supposed to work but it is not so we need to find a workaround"
   ]
  },
  {
   "cell_type": "code",
   "execution_count": 43,
   "metadata": {},
   "outputs": [
    {
     "name": "stdout",
     "output_type": "stream",
     "text": [
      "[{'Date': 'Jul 12, 2018', 'Open': 102.77, 'High': 104.41, 'Low': 102.73, 'Close': 104.19, 'Adj Close': 104.19, 'Volume': 24330900.0}, {'Date': 'Jul 11, 2018', 'Open': 101.15, 'High': 102.34, 'Low': 101.1, 'Close': 101.98, 'Adj Close': 101.98, 'Volume': 19644600.0}, {'Date': 'Jul 10, 2018', 'Open': 102.0, 'High': 102.51, 'Low': 101.86, 'Close': 102.12, 'Adj Close': 102.12, 'Volume': 19293100.0}, {'Date': 'Jul 09, 2018', 'Open': 101.65, 'High': 102.25, 'Low': 101.25, 'Close': 101.85, 'Adj Close': 101.85, 'Volume': 18212000.0}, {'Date': 'Jul 06, 2018', 'Open': 99.89, 'High': 101.43, 'Low': 99.67, 'Close': 101.16, 'Adj Close': 101.16, 'Volume': 19234600.0}, {'Date': 'Jul 05, 2018', 'Open': 99.5, 'High': 99.92, 'Low': 99.03, 'Close': 99.76, 'Adj Close': 99.76, 'Volume': 18977400.0}, {'Date': 'Jul 03, 2018', 'Open': 100.48, 'High': 100.63, 'Low': 98.94, 'Close': 99.05, 'Adj Close': 99.05, 'Volume': 14670300.0}, {'Date': 'Jul 02, 2018', 'Open': 98.1, 'High': 100.06, 'Low': 98.0, 'Close': 100.01, 'Adj Close': 100.01, 'Volume': 19564500.0}, {'Date': 'Jun 29, 2018', 'Open': 98.93, 'High': 99.91, 'Low': 98.33, 'Close': 98.61, 'Adj Close': 98.61, 'Volume': 28053200.0}, {'Date': 'Jun 28, 2018', 'Open': 97.38, 'High': 99.11, 'Low': 97.26, 'Close': 98.63, 'Adj Close': 98.63, 'Volume': 26650700.0}, {'Date': 'Jun 27, 2018', 'Open': 99.58, 'High': 100.02, 'Low': 97.4, 'Close': 97.54, 'Adj Close': 97.54, 'Volume': 31298400.0}, {'Date': 'Jun 26, 2018', 'Open': 98.82, 'High': 100.08, 'Low': 98.75, 'Close': 99.08, 'Adj Close': 99.08, 'Volume': 26897200.0}, {'Date': 'Jun 25, 2018', 'Open': 100.0, 'High': 100.11, 'Low': 97.3, 'Close': 98.39, 'Adj Close': 98.39, 'Volume': 35433300.0}, {'Date': 'Jun 22, 2018', 'Open': 100.41, 'High': 100.77, 'Low': 99.63, 'Close': 100.41, 'Adj Close': 100.41, 'Volume': 38923100.0}, {'Date': 'Jun 21, 2018', 'Open': 102.08, 'High': 102.46, 'Low': 100.88, 'Close': 101.14, 'Adj Close': 101.14, 'Volume': 23198200.0}, {'Date': 'Jun 20, 2018', 'Open': 101.37, 'High': 102.52, 'Low': 101.12, 'Close': 101.87, 'Adj Close': 101.87, 'Volume': 26180800.0}, {'Date': 'Jun 19, 2018', 'Open': 99.65, 'High': 101.0, 'Low': 99.5, 'Close': 100.86, 'Adj Close': 100.86, 'Volume': 28653100.0}, {'Date': 'Jun 18, 2018', 'Open': 100.01, 'High': 101.11, 'Low': 99.42, 'Close': 100.86, 'Adj Close': 100.86, 'Volume': 23586000.0}, {'Date': 'Jun 15, 2018', 'Open': 101.51, 'High': 101.53, 'Low': 100.07, 'Close': 100.13, 'Adj Close': 100.13, 'Volume': 65738600.0}, {'Date': 'Jun 14, 2018', 'Open': 101.65, 'High': 102.03, 'Low': 101.0, 'Close': 101.42, 'Adj Close': 101.42, 'Volume': 25691800.0}, {'Date': 'Jun 13, 2018', 'Open': 101.72, 'High': 102.01, 'Low': 100.56, 'Close': 100.85, 'Adj Close': 100.85, 'Volume': 29492900.0}, {'Date': 'Jun 12, 2018', 'Open': 101.1, 'High': 101.45, 'Low': 100.75, 'Close': 101.31, 'Adj Close': 101.31, 'Volume': 18325200.0}, {'Date': 'Jun 11, 2018', 'Open': 101.01, 'High': 101.59, 'Low': 100.67, 'Close': 101.05, 'Adj Close': 101.05, 'Volume': 23490900.0}, {'Date': 'Jun 08, 2018', 'Open': 101.09, 'High': 101.95, 'Low': 100.54, 'Close': 101.63, 'Adj Close': 101.63, 'Volume': 22165100.0}, {'Date': 'Jun 07, 2018', 'Open': 102.65, 'High': 102.69, 'Low': 100.38, 'Close': 100.88, 'Adj Close': 100.88, 'Volume': 28232200.0}, {'Date': 'Jun 06, 2018', 'Open': 102.48, 'High': 102.6, 'Low': 101.9, 'Close': 102.49, 'Adj Close': 102.49, 'Volume': 21122900.0}, {'Date': 'Jun 05, 2018', 'Open': 102.0, 'High': 102.33, 'Low': 101.53, 'Close': 102.19, 'Adj Close': 102.19, 'Volume': 23514400.0}, {'Date': 'Jun 04, 2018', 'Open': 101.26, 'High': 101.86, 'Low': 100.85, 'Close': 101.67, 'Adj Close': 101.67, 'Volume': 27166800.0}, {'Date': 'Jun 01, 2018', 'Open': 99.28, 'High': 100.86, 'Low': 99.17, 'Close': 100.79, 'Adj Close': 100.79, 'Volume': 28126200.0}, {'Date': 'May 31, 2018', 'Open': 99.29, 'High': 99.99, 'Low': 98.61, 'Close': 98.84, 'Adj Close': 98.84, 'Volume': 34140900.0}, {'Date': 'May 30, 2018', 'Open': 98.31, 'High': 99.25, 'Low': 97.91, 'Close': 98.95, 'Adj Close': 98.95, 'Volume': 22158500.0}, {'Date': 'May 29, 2018', 'Open': 97.84, 'High': 98.88, 'Low': 97.23, 'Close': 98.01, 'Adj Close': 98.01, 'Volume': 28338000.0}, {'Date': 'May 25, 2018', 'Open': 98.3, 'High': 98.98, 'Low': 97.86, 'Close': 98.36, 'Adj Close': 98.36, 'Volume': 18363900.0}, {'Date': 'May 24, 2018', 'Open': 98.73, 'High': 98.94, 'Low': 96.81, 'Close': 98.31, 'Adj Close': 98.31, 'Volume': 21540800.0}, {'Date': 'May 23, 2018', 'Open': 96.71, 'High': 98.73, 'Low': 96.32, 'Close': 98.66, 'Adj Close': 98.66, 'Volume': 21114800.0}, {'Date': 'May 22, 2018', 'Open': 97.68, 'High': 98.17, 'Low': 97.2, 'Close': 97.5, 'Adj Close': 97.5, 'Volume': 15441200.0}, {'Date': 'May 21, 2018', 'Open': 97.0, 'High': 98.01, 'Low': 96.8, 'Close': 97.6, 'Adj Close': 97.6, 'Volume': 19422500.0}, {'Date': 'May 18, 2018', 'Open': 96.01, 'High': 96.93, 'Low': 96.01, 'Close': 96.36, 'Adj Close': 96.36, 'Volume': 17865800.0}, {'Date': 'May 17, 2018', 'Open': 96.76, 'High': 97.54, 'Low': 95.83, 'Close': 96.18, 'Adj Close': 96.18, 'Volume': 17246700.0}, {'Date': 'May 16, 2018', 'Open': 97.36, 'High': 97.4, 'Low': 96.62, 'Close': 97.15, 'Adj Close': 97.15, 'Volume': 17384700.0}, {'Date': 'May 15, 2018', 'Open': 97.24, 'High': 97.85, 'Low': 96.34, 'Close': 97.32, 'Adj Close': 96.9, 'Volume': 24594000.0}, {'Date': 'May 14, 2018', 'Open': 97.92, 'High': 98.69, 'Low': 97.31, 'Close': 98.03, 'Adj Close': 97.61, 'Volume': 19454100.0}, {'Date': 'May 11, 2018', 'Open': 97.8, 'High': 97.87, 'Low': 97.04, 'Close': 97.7, 'Adj Close': 97.28, 'Volume': 16778300.0}, {'Date': 'May 10, 2018', 'Open': 97.46, 'High': 97.95, 'Low': 97.05, 'Close': 97.91, 'Adj Close': 97.49, 'Volume': 22388100.0}, {'Date': 'May 09, 2018', 'Open': 96.01, 'High': 96.97, 'Low': 95.05, 'Close': 96.94, 'Adj Close': 96.52, 'Volume': 27327400.0}, {'Date': 'May 08, 2018', 'Open': 95.85, 'High': 96.16, 'Low': 95.06, 'Close': 95.81, 'Adj Close': 95.4, 'Volume': 23484600.0}, {'Date': 'May 07, 2018', 'Open': 95.17, 'High': 96.71, 'Low': 95.1, 'Close': 96.22, 'Adj Close': 95.8, 'Volume': 24242000.0}, {'Date': 'May 04, 2018', 'Open': 93.32, 'High': 95.37, 'Low': 92.92, 'Close': 95.16, 'Adj Close': 94.75, 'Volume': 22531300.0}, {'Date': 'May 03, 2018', 'Open': 92.96, 'High': 94.93, 'Low': 92.45, 'Close': 94.07, 'Adj Close': 93.66, 'Volume': 31142500.0}, {'Date': 'May 02, 2018', 'Open': 94.99, 'High': 95.17, 'Low': 93.19, 'Close': 93.51, 'Adj Close': 93.11, 'Volume': 27471000.0}, {'Date': 'May 01, 2018', 'Open': 93.21, 'High': 95.29, 'Low': 92.79, 'Close': 95.0, 'Adj Close': 94.59, 'Volume': 31408900.0}, {'Date': 'Apr 30, 2018', 'Open': 96.33, 'High': 96.4, 'Low': 93.15, 'Close': 93.52, 'Adj Close': 93.12, 'Volume': 41523600.0}, {'Date': 'Apr 27, 2018', 'Open': 97.6, 'High': 97.9, 'Low': 93.91, 'Close': 95.82, 'Adj Close': 95.41, 'Volume': 48272800.0}, {'Date': 'Apr 26, 2018', 'Open': 93.55, 'High': 95.15, 'Low': 93.1, 'Close': 94.26, 'Adj Close': 93.85, 'Volume': 42529000.0}, {'Date': 'Apr 25, 2018', 'Open': 93.3, 'High': 93.3, 'Low': 90.28, 'Close': 92.31, 'Adj Close': 91.91, 'Volume': 33729300.0}, {'Date': 'Apr 24, 2018', 'Open': 96.24, 'High': 96.47, 'Low': 92.41, 'Close': 93.12, 'Adj Close': 92.72, 'Volume': 34524800.0}, {'Date': 'Apr 23, 2018', 'Open': 95.74, 'High': 96.29, 'Low': 94.63, 'Close': 95.35, 'Adj Close': 94.94, 'Volume': 22331800.0}, {'Date': 'Apr 20, 2018', 'Open': 95.91, 'High': 96.11, 'Low': 94.05, 'Close': 95.0, 'Adj Close': 94.59, 'Volume': 31154400.0}, {'Date': 'Apr 19, 2018', 'Open': 96.44, 'High': 97.07, 'Low': 95.34, 'Close': 96.11, 'Adj Close': 95.7, 'Volume': 23552500.0}, {'Date': 'Apr 18, 2018', 'Open': 96.22, 'High': 96.72, 'Low': 95.52, 'Close': 96.44, 'Adj Close': 96.02, 'Volume': 21043300.0}, {'Date': 'Apr 17, 2018', 'Open': 95.0, 'High': 96.54, 'Low': 94.88, 'Close': 96.07, 'Adj Close': 95.66, 'Volume': 26771000.0}, {'Date': 'Apr 16, 2018', 'Open': 94.07, 'High': 94.66, 'Low': 93.42, 'Close': 94.17, 'Adj Close': 93.76, 'Volume': 20288100.0}, {'Date': 'Apr 13, 2018', 'Open': 94.05, 'High': 94.18, 'Low': 92.44, 'Close': 93.08, 'Adj Close': 92.68, 'Volume': 23346100.0}, {'Date': 'Apr 12, 2018', 'Open': 92.43, 'High': 94.16, 'Low': 92.43, 'Close': 93.58, 'Adj Close': 93.18, 'Volume': 26758900.0}, {'Date': 'Apr 11, 2018', 'Open': 92.01, 'High': 93.29, 'Low': 91.48, 'Close': 91.86, 'Adj Close': 91.46, 'Volume': 24872100.0}, {'Date': 'Apr 10, 2018', 'Open': 92.39, 'High': 93.28, 'Low': 91.64, 'Close': 92.88, 'Adj Close': 92.48, 'Volume': 26812000.0}, {'Date': 'Apr 09, 2018', 'Open': 91.04, 'High': 93.17, 'Low': 90.62, 'Close': 90.77, 'Adj Close': 90.38, 'Volume': 31533900.0}, {'Date': 'Apr 06, 2018', 'Open': 91.49, 'High': 92.46, 'Low': 89.48, 'Close': 90.23, 'Adj Close': 89.84, 'Volume': 38026000.0}, {'Date': 'Apr 05, 2018', 'Open': 92.44, 'High': 93.07, 'Low': 91.4, 'Close': 92.38, 'Adj Close': 91.98, 'Volume': 29771900.0}, {'Date': 'Apr 04, 2018', 'Open': 87.85, 'High': 92.76, 'Low': 87.73, 'Close': 92.33, 'Adj Close': 91.93, 'Volume': 35560000.0}, {'Date': 'Apr 03, 2018', 'Open': 89.58, 'High': 90.05, 'Low': 87.89, 'Close': 89.71, 'Adj Close': 89.32, 'Volume': 37213800.0}, {'Date': 'Apr 02, 2018', 'Open': 90.47, 'High': 90.88, 'Low': 87.51, 'Close': 88.52, 'Adj Close': 88.14, 'Volume': 48515400.0}, {'Date': 'Mar 29, 2018', 'Open': 90.18, 'High': 92.29, 'Low': 88.4, 'Close': 91.27, 'Adj Close': 90.88, 'Volume': 45867500.0}, {'Date': 'Mar 28, 2018', 'Open': 89.82, 'High': 91.23, 'Low': 88.87, 'Close': 89.39, 'Adj Close': 89.0, 'Volume': 52501100.0}, {'Date': 'Mar 27, 2018', 'Open': 94.94, 'High': 95.14, 'Low': 88.51, 'Close': 89.47, 'Adj Close': 89.08, 'Volume': 56569000.0}, {'Date': 'Mar 26, 2018', 'Open': 90.61, 'High': 94.0, 'Low': 90.4, 'Close': 93.78, 'Adj Close': 93.38, 'Volume': 56396800.0}, {'Date': 'Mar 23, 2018', 'Open': 89.5, 'High': 90.46, 'Low': 87.08, 'Close': 87.18, 'Adj Close': 86.8, 'Volume': 44068900.0}, {'Date': 'Mar 22, 2018', 'Open': 91.27, 'High': 91.75, 'Low': 89.66, 'Close': 89.79, 'Adj Close': 89.4, 'Volume': 38604700.0}, {'Date': 'Mar 21, 2018', 'Open': 92.93, 'High': 94.05, 'Low': 92.21, 'Close': 92.48, 'Adj Close': 92.08, 'Volume': 24457100.0}, {'Date': 'Mar 20, 2018', 'Open': 93.05, 'High': 93.77, 'Low': 93.0, 'Close': 93.13, 'Adj Close': 92.73, 'Volume': 23075200.0}, {'Date': 'Mar 19, 2018', 'Open': 93.74, 'High': 93.9, 'Low': 92.11, 'Close': 92.89, 'Adj Close': 92.49, 'Volume': 33344100.0}, {'Date': 'Mar 16, 2018', 'Open': 94.68, 'High': 95.38, 'Low': 93.92, 'Close': 94.6, 'Adj Close': 94.19, 'Volume': 49081300.0}, {'Date': 'Mar 15, 2018', 'Open': 93.53, 'High': 94.58, 'Low': 92.83, 'Close': 94.18, 'Adj Close': 93.77, 'Volume': 27611000.0}, {'Date': 'Mar 14, 2018', 'Open': 95.12, 'High': 95.41, 'Low': 93.5, 'Close': 93.85, 'Adj Close': 93.44, 'Volume': 32132000.0}, {'Date': 'Mar 13, 2018', 'Open': 97.0, 'High': 97.24, 'Low': 93.97, 'Close': 94.41, 'Adj Close': 94.0, 'Volume': 35387800.0}, {'Date': 'Mar 12, 2018', 'Open': 96.5, 'High': 97.21, 'Low': 96.04, 'Close': 96.77, 'Adj Close': 96.35, 'Volume': 26073700.0}, {'Date': 'Mar 09, 2018', 'Open': 95.29, 'High': 96.54, 'Low': 95.0, 'Close': 96.54, 'Adj Close': 96.12, 'Volume': 36937300.0}, {'Date': 'Mar 08, 2018', 'Open': 94.27, 'High': 95.1, 'Low': 93.77, 'Close': 94.43, 'Adj Close': 94.02, 'Volume': 25887800.0}, {'Date': 'Mar 07, 2018', 'Open': 93.16, 'High': 93.94, 'Low': 92.43, 'Close': 93.86, 'Adj Close': 93.45, 'Volume': 26716100.0}, {'Date': 'Mar 06, 2018', 'Open': 94.34, 'High': 94.49, 'Low': 92.94, 'Close': 93.32, 'Adj Close': 92.92, 'Volume': 22175800.0}, {'Date': 'Mar 05, 2018', 'Open': 92.34, 'High': 94.27, 'Low': 92.26, 'Close': 93.64, 'Adj Close': 93.24, 'Volume': 23901600.0}, {'Date': 'Mar 02, 2018', 'Open': 91.58, 'High': 93.15, 'Low': 90.86, 'Close': 93.05, 'Adj Close': 92.65, 'Volume': 32830400.0}, {'Date': 'Mar 01, 2018', 'Open': 93.99, 'High': 94.57, 'Low': 91.84, 'Close': 92.85, 'Adj Close': 92.45, 'Volume': 37135600.0}, {'Date': 'Feb 28, 2018', 'Open': 94.84, 'High': 95.71, 'Low': 93.63, 'Close': 93.77, 'Adj Close': 93.37, 'Volume': 31167300.0}, {'Date': 'Feb 27, 2018', 'Open': 95.74, 'High': 95.84, 'Low': 94.2, 'Close': 94.2, 'Adj Close': 93.79, 'Volume': 25869100.0}, {'Date': 'Feb 26, 2018', 'Open': 94.4, 'High': 95.45, 'Low': 94.25, 'Close': 95.42, 'Adj Close': 95.01, 'Volume': 30199800.0}, {'Date': 'Feb 23, 2018', 'Open': 93.6, 'High': 94.07, 'Low': 92.36, 'Close': 94.06, 'Adj Close': 93.65, 'Volume': 26329200.0}, {'Date': 'Feb 22, 2018', 'Open': 92.05, 'High': 92.73, 'Low': 91.36, 'Close': 91.73, 'Adj Close': 91.33, 'Volume': 24392800.0}, {'Date': 'Feb 21, 2018', 'Open': 92.98, 'High': 93.36, 'Low': 91.49, 'Close': 91.49, 'Adj Close': 91.1, 'Volume': 26922500.0}]\n"
     ]
    },
    {
     "name": "stderr",
     "output_type": "stream",
     "text": [
      "/home/exx/anaconda3/lib/python3.6/site-packages/bs4/__init__.py:181: UserWarning: No parser was explicitly specified, so I'm using the best available HTML parser for this system (\"lxml\"). This usually isn't a problem, but if you run this code on another system, or in a different virtual environment, it may use a different parser and behave differently.\n",
      "\n",
      "The code that caused this warning is on line 193 of the file /home/exx/anaconda3/lib/python3.6/runpy.py. To get rid of this warning, change code that looks like this:\n",
      "\n",
      " BeautifulSoup(YOUR_MARKUP})\n",
      "\n",
      "to this:\n",
      "\n",
      " BeautifulSoup(YOUR_MARKUP, \"lxml\")\n",
      "\n",
      "  markup_type=markup_type))\n"
     ]
    }
   ],
   "source": [
    "def get_historical_data(name, number_of_days):\n",
    "    data = []\n",
    "    url = \"https://finance.yahoo.com/quote/\" + name + \"/history/\"\n",
    "    rows = bs(urlopen(url).read()).findAll('table')[0].tbody.findAll('tr')\n",
    "\n",
    "    for each_row in rows:\n",
    "        divs = each_row.findAll('td')\n",
    "        if divs[1].span.text  != 'Dividend': #Ignore this row in the table\n",
    "            #I'm only interested in 'Open' price; For other values, play with divs[1 - 5]\n",
    "            data.append({'Date': divs[0].span.text, 'Open': float(divs[1].span.text.replace(',','')), 'High': float(divs[2].span.text.replace(',','')), 'Low': float(divs[3].span.text.replace(',','')), 'Close': float(divs[4].span.text.replace(',','')), 'Adj Close': float(divs[5].span.text.replace(',','')), 'Volume': float(divs[6].span.text.replace(',',''))})\n",
    "\n",
    "    return data\n",
    "\n",
    "#Test\n",
    "#for i in get_historical_data('MSFT', 200):\n",
    "#    print(i['Date'])\n",
    "prices = get_historical_data('MSFT', 200)\n",
    "print(prices[:])"
   ]
  },
  {
   "cell_type": "code",
   "execution_count": 39,
   "metadata": {},
   "outputs": [],
   "source": [
    "def plot_prices(prices):\n",
    "    plt.title('Opening stock prices')\n",
    "    plt.xlabel('day')\n",
    "    plt.ylabel('price ($)')\n",
    "    plt.plot(prices)\n",
    "    plt.savefig('prices.png')"
   ]
  },
  {
   "cell_type": "code",
   "execution_count": 40,
   "metadata": {},
   "outputs": [
    {
     "ename": "TypeError",
     "evalue": "list indices must be integers or slices, not str",
     "output_type": "error",
     "traceback": [
      "\u001b[0;31m---------------------------------------------------------------------------\u001b[0m",
      "\u001b[0;31mTypeError\u001b[0m                                 Traceback (most recent call last)",
      "\u001b[0;32m<ipython-input-40-9d0843e25637>\u001b[0m in \u001b[0;36m<module>\u001b[0;34m()\u001b[0m\n\u001b[0;32m----> 1\u001b[0;31m \u001b[0mplot_prices\u001b[0m\u001b[0;34m(\u001b[0m\u001b[0mprices\u001b[0m\u001b[0;34m[\u001b[0m\u001b[0;34m'Open'\u001b[0m\u001b[0;34m]\u001b[0m\u001b[0;34m)\u001b[0m\u001b[0;34m\u001b[0m\u001b[0m\n\u001b[0m",
      "\u001b[0;31mTypeError\u001b[0m: list indices must be integers or slices, not str"
     ]
    }
   ],
   "source": [
    "plot_prices(prices)"
   ]
  }
 ],
 "metadata": {
  "kernelspec": {
   "display_name": "Python 3",
   "language": "python",
   "name": "python3"
  },
  "language_info": {
   "codemirror_mode": {
    "name": "ipython",
    "version": 3
   },
   "file_extension": ".py",
   "mimetype": "text/x-python",
   "name": "python",
   "nbconvert_exporter": "python",
   "pygments_lexer": "ipython3",
   "version": "3.6.4"
  }
 },
 "nbformat": 4,
 "nbformat_minor": 2
}
